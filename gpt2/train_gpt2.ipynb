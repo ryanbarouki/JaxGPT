{
  "cells": [
    {
      "cell_type": "code",
      "execution_count": 9,
      "metadata": {
        "colab": {
          "base_uri": "https://localhost:8080/"
        },
        "id": "g1Y15is_fBpA",
        "outputId": "b4c765be-08d7-4676-988d-8135ff14568b"
      },
      "outputs": [
        {
          "data": {
            "text/plain": [
              "<module 'gpt2' from '/Users/ryanbarouki/Documents/Coding/gpt_mini_jax/gpt2/gpt2.py'>"
            ]
          },
          "execution_count": 9,
          "metadata": {},
          "output_type": "execute_result"
        }
      ],
      "source": [
        "import gpt2 as nn\n",
        "import jax.numpy as jnp\n",
        "import jax\n",
        "try:\n",
        "  import tiktoken\n",
        "except:\n",
        "  !pip install tiktoken\n",
        "  import tiktoken\n",
        "import numpy as np\n",
        "from importlib import reload\n",
        "reload(nn)"
      ]
    },
    {
      "cell_type": "code",
      "execution_count": 10,
      "metadata": {
        "id": "LQOPY5LBgQ-S"
      },
      "outputs": [],
      "source": [
        "def count_params(params):\n",
        "  return sum([p.size for p in jax.tree.leaves(params)])"
      ]
    },
    {
      "cell_type": "code",
      "execution_count": 11,
      "metadata": {
        "id": "XwXbuJAlfVcB"
      },
      "outputs": [],
      "source": [
        "key = jax.random.PRNGKey(42069)\n",
        "config = nn.Config()\n",
        "model = nn.GPT2(config)\n",
        "enc = tiktoken.get_encoding('gpt2')"
      ]
    },
    {
      "cell_type": "code",
      "execution_count": 12,
      "metadata": {
        "id": "jEBkweDGfyWr"
      },
      "outputs": [],
      "source": [
        "# Generate intial text\n",
        "#key, init_key = jax.random.split(key)\n",
        "#dummy = jnp.ones((1,1), dtype=int)\n",
        "#params = model.init(init_key, dummy)\n",
        "#\n",
        "#start = \"Hello, I'm a language model,\"\n",
        "#inputs = jnp.array(enc.encode(start)).reshape(1,-1)\n",
        "#key, gen_key = jax.random.split(key)\n",
        "#outs = model.generate_batch(gen_key, params, inputs, 30)\n",
        "#enc.decode(outs[0])"
      ]
    },
    {
      "cell_type": "code",
      "execution_count": 13,
      "metadata": {
        "id": "4YWz5adfokON"
      },
      "outputs": [],
      "source": [
        "# Loss function\n",
        "import optax.losses as ll\n",
        "\n",
        "def loss_fn(params, forward, x, y):\n",
        "  logits = forward(params, x)\n",
        "  return ll.softmax_cross_entropy_with_integer_labels(logits, y).mean()\n",
        "\n",
        "#print(loss_fn(params, model.apply, x, y))"
      ]
    },
    {
      "cell_type": "code",
      "execution_count": 14,
      "metadata": {
        "id": "ay069iKByhHA"
      },
      "outputs": [],
      "source": [
        "# Create a train state\n",
        "from flax.training import train_state\n",
        "import optax\n",
        "\n",
        "def create_train_state(model, init_key, learning_rate):\n",
        "  dummy = jnp.ones((1,1), dtype=int)\n",
        "  params = model.init(init_key, dummy)\n",
        "  optimizer = optax.adamw(learning_rate)\n",
        "\n",
        "  return train_state.TrainState.create(\n",
        "      apply_fn=model.apply,\n",
        "      params=params,\n",
        "      tx=optimizer\n",
        "  )"
      ]
    },
    {
      "cell_type": "code",
      "execution_count": 15,
      "metadata": {
        "id": "3sJnzw3PvzHR"
      },
      "outputs": [],
      "source": [
        "# Create train step\n",
        "@jax.jit\n",
        "def train_step(state, x, y):\n",
        "  def loss_f(params):\n",
        "    logits = state.apply_fn(params, x)\n",
        "    return ll.softmax_cross_entropy_with_integer_labels(logits, y).mean()\n",
        "\n",
        "  loss, grads = jax.value_and_grad(loss_f)(state.params)\n",
        "  state = state.apply_gradients(grads=grads)\n",
        "  return state, loss"
      ]
    },
    {
      "cell_type": "code",
      "execution_count": 16,
      "metadata": {
        "id": "7-OdRXYDwWHJ"
      },
      "outputs": [],
      "source": [
        "# Initialise model and training state\n",
        "key, init_key = jax.random.split(key)\n",
        "state = create_train_state(model, init_key, learning_rate=3e-4)"
      ]
    },
    {
      "cell_type": "code",
      "execution_count": 19,
      "metadata": {
        "colab": {
          "base_uri": "https://localhost:8080/"
        },
        "id": "EvPOLKo07pxM",
        "outputId": "76a0dae7-9629-4fbf-da2c-c54538be6402"
      },
      "outputs": [
        {
          "name": "stdout",
          "output_type": "stream",
          "text": [
            "loaded 338025 tokens\n",
            "1 epoch = 2640 batches\n",
            "10.943641\n",
            "9.806313\n",
            "9.102635\n",
            "9.236937\n",
            "8.669986\n",
            "8.464756\n",
            "8.996381\n",
            "8.647453\n",
            "8.193598\n",
            "8.035293\n",
            "8.38256\n",
            "7.494884\n",
            "7.8570457\n",
            "7.4582863\n",
            "7.5563455\n",
            "7.3741255\n",
            "7.5158014\n",
            "8.280799\n",
            "7.2334743\n",
            "7.824947\n",
            "7.5578537\n",
            "7.898467\n",
            "6.5368\n",
            "6.9025664\n",
            "6.93479\n",
            "6.7480125\n",
            "6.8465033\n",
            "7.5895596\n",
            "7.17289\n",
            "6.9268947\n",
            "6.8994384\n",
            "7.2328315\n",
            "7.1461525\n",
            "6.9585185\n",
            "7.964043\n",
            "7.808412\n",
            "7.6431413\n",
            "7.627168\n",
            "7.8731794\n",
            "7.372366\n",
            "7.4931045\n",
            "6.7793202\n",
            "6.944989\n",
            "7.0636287\n",
            "6.993957\n",
            "7.0524063\n",
            "5.9528337\n",
            "6.2677107\n",
            "6.9738917\n",
            "6.742378\n",
            "7.230375\n",
            "6.8494043\n",
            "5.7705455\n",
            "7.221552\n",
            "6.671711\n",
            "6.4116793\n",
            "6.9540753\n",
            "6.8828444\n",
            "6.233543\n",
            "6.66222\n",
            "6.2355337\n",
            "6.6517463\n",
            "6.227757\n",
            "6.049005\n",
            "6.633167\n",
            "6.8364606\n",
            "6.594459\n",
            "6.063694\n",
            "6.459332\n",
            "6.6033936\n",
            "6.822003\n",
            "6.7523365\n",
            "6.460961\n",
            "6.405623\n",
            "7.6293488\n",
            "6.595389\n",
            "6.9009953\n",
            "6.026963\n",
            "6.2947736\n",
            "5.8505692\n",
            "6.382288\n",
            "6.963936\n",
            "6.574122\n",
            "5.669996\n",
            "5.8705583\n",
            "5.979701\n",
            "6.2532315\n",
            "6.9510736\n",
            "7.424315\n",
            "7.566949\n",
            "7.1645794\n",
            "6.85993\n",
            "7.595907\n",
            "6.5034065\n",
            "5.9603977\n",
            "6.4760723\n",
            "6.1941314\n",
            "6.400194\n",
            "6.021373\n",
            "6.527379\n"
          ]
        }
      ],
      "source": [
        "# Training LOOP\n",
        "import dataloader as dl\n",
        "loader = dl.DataLoaderLite(B=4, T=32, fname='../data/input.txt')\n",
        "for _ in range(100):\n",
        "  x,y = loader.next_batch()\n",
        "  state, loss = train_step(state, x, y)\n",
        "  print(loss)"
      ]
    },
    {
      "cell_type": "code",
      "execution_count": null,
      "metadata": {
        "id": "ouyAFzTSegeW"
      },
      "outputs": [],
      "source": []
    },
    {
      "cell_type": "code",
      "execution_count": null,
      "metadata": {
        "id": "xGlsxSJ5G1Hb"
      },
      "outputs": [],
      "source": []
    }
  ],
  "metadata": {
    "accelerator": "GPU",
    "colab": {
      "gpuType": "L4",
      "provenance": []
    },
    "kernelspec": {
      "display_name": "pytorchenv",
      "language": "python",
      "name": "python3"
    },
    "language_info": {
      "codemirror_mode": {
        "name": "ipython",
        "version": 3
      },
      "file_extension": ".py",
      "mimetype": "text/x-python",
      "name": "python",
      "nbconvert_exporter": "python",
      "pygments_lexer": "ipython3",
      "version": "3.12.7"
    }
  },
  "nbformat": 4,
  "nbformat_minor": 0
}
