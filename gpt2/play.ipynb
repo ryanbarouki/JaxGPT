{
 "cells": [
  {
   "cell_type": "code",
   "execution_count": null,
   "id": "2053239e",
   "metadata": {},
   "outputs": [],
   "source": [
    "from transformers import AutoTokenizer, FlaxGPT2LMHeadModel, GPT2Config\n",
    "\n",
    "tokenizer = AutoTokenizer.from_pretrained(\"openai-community/gpt2\")\n",
    "config = GPT2Config()\n",
    "# Apparently GPT2 ties the last linear layer to the initial word embeddings\n",
    "# so the final layer is wte.embedding.T (768, 50257)\n",
    "# config.tie_word_embeddings = False\n",
    "hf_model = FlaxGPT2LMHeadModel.from_pretrained(\"openai-community/gpt2\")\n",
    "\n",
    "inputs = tokenizer(\"Hello, my dog is cute\", return_tensors=\"np\")\n",
    "outputs = hf_model(**inputs)\n",
    "\n",
    "# retrieve logts for next token\n",
    "next_token_logits = outputs.logits[:, -1]"
   ]
  },
  {
   "cell_type": "code",
   "execution_count": 102,
   "id": "240b65f7",
   "metadata": {},
   "outputs": [
    {
     "data": {
      "text/plain": [
       "(1, 50257)"
      ]
     },
     "execution_count": 102,
     "metadata": {},
     "output_type": "execute_result"
    }
   ],
   "source": [
    "next_token_logits.shape"
   ]
  },
  {
   "cell_type": "code",
   "execution_count": 1,
   "id": "7423cd68",
   "metadata": {},
   "outputs": [],
   "source": [
    "def get_keys(params):\n",
    "    out = []\n",
    "    def print_keys_flat(params, prefix=\"\"):\n",
    "        for p in params:\n",
    "            if isinstance(params[p], dict):\n",
    "                print_keys_flat(params[p], f\"{prefix}.{p}\")\n",
    "            else:\n",
    "                out.append((f\"{prefix}.{p}\", params[p].shape))\n",
    "    print_keys_flat(params)\n",
    "    return out\n",
    "            \n",
    "def print_keys(params, offset=\"\"):\n",
    "    for p in params:\n",
    "        if not isinstance(params[p], dict):\n",
    "            print(offset+p, params[p].shape)\n",
    "        else:\n",
    "            print(offset+p)\n",
    "            print_keys(params[p], offset + \"  \")"
   ]
  },
  {
   "cell_type": "code",
   "execution_count": null,
   "id": "c3b94d2a",
   "metadata": {},
   "outputs": [],
   "source": [
    "import gpt2 as nn\n",
    "from importlib import reload\n",
    "reload(nn)\n",
    "import jax.numpy as jnp\n",
    "import jax\n",
    "\n",
    "config = nn.Config()\n",
    "model = nn.GPT2(config)\n",
    "params = model.from_pretrained('gpt2')\n",
    "\n",
    "# model_blank = nn.GPT2(nn.Config())\n",
    "# dummy = jnp.ones((1,1), dtype=int)\n",
    "# params = model.init(key,dummy)"
   ]
  },
  {
   "cell_type": "code",
   "execution_count": null,
   "id": "e41e2a43",
   "metadata": {},
   "outputs": [],
   "source": [
    "#inputs = jnp.array(inputs['input_ids'])\n",
    "import tiktoken\n",
    "\n",
    "enc = tiktoken.get_encoding('gpt2')\n",
    "key = jax.random.PRNGKey(42069)\n",
    "key, gen_key = jax.random.split(key)\n",
    "start = \"Hello, I'm a language model,\"\n",
    "inputs = jnp.array(enc.encode(start)).reshape(1,-1)\n",
    "#out = model.generate(key, params, inputs, 100)\n",
    "out = model.generate_batch(gen_key, params, inputs, 2)\n",
    "jit_gen = jax.jit(lambda params, gen_key, inputs, num_new_tokens: model.generate_batch(gen_key, params, inputs, num_new_tokens), static_argnums=(3,))"
   ]
  },
  {
   "cell_type": "code",
   "execution_count": 8,
   "id": "bdcf4e95",
   "metadata": {},
   "outputs": [
    {
     "name": "stdout",
     "output_type": "stream",
     "text": [
      "Hello, I'm a language model, and LazyList is a language model. This is the goal of this book. Let's see 1. Learn ruby p talked about 2. Learn Ruby scripting tutorials 3. Learn Scheme text parsing 4. Create some nice 3D objects 5. Build something from the ground up\n",
      "Multi-language design\n",
      "Getting Started\n",
      "Optimisation of cataphysics and immutability in domain constructs\n",
      "The chemistry classroom course.\n",
      "Learning Lab Steps\n",
      "Learning Lab will lie in the traditional I/O vis\n"
     ]
    }
   ],
   "source": [
    "print(enc.decode(out[0]))"
   ]
  },
  {
   "cell_type": "code",
   "execution_count": null,
   "id": "617ec6c8",
   "metadata": {},
   "outputs": [],
   "source": []
  }
 ],
 "metadata": {
  "kernelspec": {
   "display_name": "pytorchenv",
   "language": "python",
   "name": "python3"
  },
  "language_info": {
   "codemirror_mode": {
    "name": "ipython",
    "version": 3
   },
   "file_extension": ".py",
   "mimetype": "text/x-python",
   "name": "python",
   "nbconvert_exporter": "python",
   "pygments_lexer": "ipython3",
   "version": "3.12.7"
  }
 },
 "nbformat": 4,
 "nbformat_minor": 5
}
