{
 "cells": [
  {
   "cell_type": "code",
   "execution_count": 1,
   "id": "ef788ccf",
   "metadata": {},
   "outputs": [
    {
     "name": "stdout",
     "output_type": "stream",
     "text": [
      "--2025-04-23 14:06:50--  https://raw.githubusercontent.com/karpathy/char-rnn/master/data/tinyshakespeare/input.txt\n",
      "Resolving raw.githubusercontent.com (raw.githubusercontent.com)... 185.199.109.133, 185.199.110.133, 185.199.111.133, ...\n",
      "Connecting to raw.githubusercontent.com (raw.githubusercontent.com)|185.199.109.133|:443... connected.\n",
      "HTTP request sent, awaiting response... 200 OK\n",
      "Length: 1115394 (1.1M) [text/plain]\n",
      "Saving to: ‘input.txt’\n",
      "\n",
      "input.txt           100%[===================>]   1.06M  3.36MB/s    in 0.3s    \n",
      "\n",
      "2025-04-23 14:06:50 (3.36 MB/s) - ‘input.txt’ saved [1115394/1115394]\n",
      "\n"
     ]
    }
   ],
   "source": [
    "# we always start with a dataset to train on. let's download the tiny shakespeare dataset\n",
    "!wget https://raw.githubusercontent.com/karpathy/char-rnn/master/data/tinyshakespeare/input.txt"
   ]
  },
  {
   "cell_type": "code",
   "execution_count": 2,
   "id": "f2acfacb",
   "metadata": {},
   "outputs": [],
   "source": [
    "with open('input.txt', 'r', encoding='utf-8') as f:\n",
    "    text = f.read()"
   ]
  },
  {
   "cell_type": "code",
   "execution_count": 3,
   "id": "39d4417c",
   "metadata": {},
   "outputs": [
    {
     "name": "stdout",
     "output_type": "stream",
     "text": [
      "First Citizen:\n",
      "Before we proceed any further, hear me speak.\n",
      "\n",
      "All:\n",
      "Speak, speak.\n",
      "\n",
      "First Citizen:\n",
      "You are all resolved rather to die than to famish?\n",
      "\n",
      "All:\n",
      "Resolved. resolved.\n",
      "\n",
      "First Citizen:\n",
      "First, you know Caius Marcius is chief enemy to the people.\n",
      "\n",
      "All:\n",
      "We know't, we know't.\n",
      "\n",
      "First Citizen:\n",
      "Let us kill him, and we'll have corn at our own price.\n",
      "Is't a verdict?\n",
      "\n",
      "All:\n",
      "No more talking on't; let it be done: away, away!\n",
      "\n",
      "Second Citizen:\n",
      "One word, good citizens.\n",
      "\n",
      "First Citizen:\n",
      "We are accounted poor citizens, the patricians good.\n",
      "What authority surfeits on would relieve us: if they\n",
      "would yield us but the superfluity, while it were\n",
      "wholesome, we might guess they relieved us humanely;\n",
      "but they think we are too dear: the leanness that\n",
      "afflicts us, the object of our misery, is as an\n",
      "inventory to particularise their abundance; our\n",
      "sufferance is a gain to them Let us revenge this with\n",
      "our pikes, ere we become rakes: for the gods know I\n",
      "speak this in hunger for bread, not in thirst for revenge.\n",
      "\n",
      "\n"
     ]
    }
   ],
   "source": [
    "print(text[:1000])"
   ]
  },
  {
   "cell_type": "code",
   "execution_count": 4,
   "id": "d8bcff1d",
   "metadata": {},
   "outputs": [
    {
     "name": "stdout",
     "output_type": "stream",
     "text": [
      "\n",
      " !$&',-.3:;?ABCDEFGHIJKLMNOPQRSTUVWXYZabcdefghijklmnopqrstuvwxyz\n",
      "65\n"
     ]
    }
   ],
   "source": [
    "chars = sorted(list(set(text)))\n",
    "vocab_size = len(chars)\n",
    "print(\"\".join(chars))\n",
    "print(vocab_size)"
   ]
  },
  {
   "cell_type": "code",
   "execution_count": 5,
   "id": "896c061e",
   "metadata": {},
   "outputs": [],
   "source": [
    "stoi = {c:i for i,c in enumerate(chars)}\n",
    "itos = {i:c for i,c in enumerate(chars)}\n",
    "encode = lambda s: [stoi[c] for c in s]\n",
    "decode = lambda l: \"\".join([itos[i] for i in l])\n"
   ]
  },
  {
   "cell_type": "code",
   "execution_count": 6,
   "id": "0b43193f",
   "metadata": {},
   "outputs": [
    {
     "name": "stdout",
     "output_type": "stream",
     "text": [
      "[39, 52, 1, 43, 52, 41, 53, 42, 43, 42, 1, 54, 47, 43, 41, 43, 1, 53, 44, 1, 58, 43, 62, 58]\n"
     ]
    },
    {
     "data": {
      "text/plain": [
       "'hiii there'"
      ]
     },
     "execution_count": 6,
     "metadata": {},
     "output_type": "execute_result"
    }
   ],
   "source": [
    "print(encode('an encoded piece of text'))\n",
    "decode(encode(\"hiii there\"))"
   ]
  },
  {
   "cell_type": "code",
   "execution_count": 7,
   "id": "b0284dfe",
   "metadata": {},
   "outputs": [
    {
     "name": "stderr",
     "output_type": "stream",
     "text": [
      "/var/folders/lb/d206k2v920v_0_rnh_dm8r3w0000gn/T/ipykernel_40077/3220451585.py:3: UserWarning: Explicitly requested dtype <class 'jax.numpy.int64'> requested in array is not available, and will be truncated to dtype int32. To enable more dtypes, set the jax_enable_x64 configuration option or the JAX_ENABLE_X64 shell environment variable. See https://github.com/jax-ml/jax#current-gotchas for more.\n",
      "  data = jnp.array(encode(text), dtype=jnp.int64)\n"
     ]
    },
    {
     "name": "stdout",
     "output_type": "stream",
     "text": [
      "(1115394,) int32\n",
      "[18 47 56 57 58  1 15 47 58 47 64 43 52 10  0 14 43 44 53 56 43  1 61 43\n",
      "  1 54 56 53 41 43 43 42  1 39 52 63  1 44 59 56 58 46 43 56  6  1 46 43\n",
      " 39 56  1 51 43  1 57 54 43 39 49  8  0  0 13 50 50 10  0 31 54 43 39 49\n",
      "  6  1 57 54 43 39 49  8  0  0 18 47 56 57 58  1 15 47 58 47 64 43 52 10\n",
      "  0 37 53 59  1 39 56 43  1 39 50 50  1 56 43 57 53 50 60 43 42  1 56 39\n",
      " 58 46 43 56  1 58 53  1 42 47 43  1 58 46 39 52  1 58 53  1 44 39 51 47\n",
      " 57 46 12  0  0 13 50 50 10  0 30 43 57 53 50 60 43 42  8  1 56 43 57 53\n",
      " 50 60 43 42  8  0  0 18 47 56 57 58  1 15 47 58 47 64 43 52 10  0 18 47\n",
      " 56 57 58  6  1 63 53 59  1 49 52 53 61  1 15 39 47 59 57  1 25 39 56 41\n",
      " 47 59 57  1 47 57  1 41 46 47 43 44  1 43 52 43 51 63  1 58 53  1 58 46\n",
      " 43  1 54 43 53 54 50 43  8  0  0 13 50 50 10  0 35 43  1 49 52 53 61  5\n",
      " 58  6  1 61 43  1 49 52 53 61  5 58  8  0  0 18 47 56 57 58  1 15 47 58\n",
      " 47 64 43 52 10  0 24 43 58  1 59 57  1 49 47 50 50  1 46 47 51  6  1 39\n",
      " 52 42  1 61 43  5 50 50  1 46 39 60 43  1 41 53 56 52  1 39 58  1 53 59\n",
      " 56  1 53 61 52  1 54 56 47 41 43  8  0 21 57  5 58  1 39  1 60 43 56 42\n",
      " 47 41 58 12  0  0 13 50 50 10  0 26 53  1 51 53 56 43  1 58 39 50 49 47\n",
      " 52 45  1 53 52  5 58 11  1 50 43 58  1 47 58  1 40 43  1 42 53 52 43 10\n",
      "  1 39 61 39 63  6  1 39 61 39 63  2  0  0 31 43 41 53 52 42  1 15 47 58\n",
      " 47 64 43 52 10  0 27 52 43  1 61 53 56 42  6  1 45 53 53 42  1 41 47 58\n",
      " 47 64 43 52 57  8  0  0 18 47 56 57 58  1 15 47 58 47 64 43 52 10  0 35\n",
      " 43  1 39 56 43  1 39 41 41 53 59 52 58 43 42  1 54 53 53 56  1 41 47 58\n",
      " 47 64 43 52 57  6  1 58 46 43  1 54 39 58 56 47 41 47 39 52 57  1 45 53\n",
      " 53 42  8  0 35 46 39 58  1 39 59 58 46 53 56 47 58 63  1 57 59 56 44 43\n",
      " 47 58 57  1 53 52  1 61 53 59 50 42  1 56 43 50 47 43 60 43  1 59 57 10\n",
      "  1 47 44  1 58 46 43 63  0 61 53 59 50 42  1 63 47 43 50 42  1 59 57  1\n",
      " 40 59 58  1 58 46 43  1 57 59 54 43 56 44 50 59 47 58 63  6  1 61 46 47\n",
      " 50 43  1 47 58  1 61 43 56 43  0 61 46 53 50 43 57 53 51 43  6  1 61 43\n",
      "  1 51 47 45 46 58  1 45 59 43 57 57  1 58 46 43 63  1 56 43 50 47 43 60\n",
      " 43 42  1 59 57  1 46 59 51 39 52 43 50 63 11  0 40 59 58  1 58 46 43 63\n",
      "  1 58 46 47 52 49  1 61 43  1 39 56 43  1 58 53 53  1 42 43 39 56 10  1\n",
      " 58 46 43  1 50 43 39 52 52 43 57 57  1 58 46 39 58  0 39 44 44 50 47 41\n",
      " 58 57  1 59 57  6  1 58 46 43  1 53 40 48 43 41 58  1 53 44  1 53 59 56\n",
      "  1 51 47 57 43 56 63  6  1 47 57  1 39 57  1 39 52  0 47 52 60 43 52 58\n",
      " 53 56 63  1 58 53  1 54 39 56 58 47 41 59 50 39 56 47 57 43  1 58 46 43\n",
      " 47 56  1 39 40 59 52 42 39 52 41 43 11  1 53 59 56  0 57 59 44 44 43 56\n",
      " 39 52 41 43  1 47 57  1 39  1 45 39 47 52  1 58 53  1 58 46 43 51  1 24\n",
      " 43 58  1 59 57  1 56 43 60 43 52 45 43  1 58 46 47 57  1 61 47 58 46  0\n",
      " 53 59 56  1 54 47 49 43 57  6  1 43 56 43  1 61 43  1 40 43 41 53 51 43\n",
      "  1 56 39 49 43 57 10  1 44 53 56  1 58 46 43  1 45 53 42 57  1 49 52 53\n",
      " 61  1 21  0 57 54 43 39 49  1 58 46 47 57  1 47 52  1 46 59 52 45 43 56\n",
      "  1 44 53 56  1 40 56 43 39 42  6  1 52 53 58  1 47 52  1 58 46 47 56 57\n",
      " 58  1 44 53 56  1 56 43 60 43 52 45 43  8  0  0]\n"
     ]
    }
   ],
   "source": [
    "import jax\n",
    "import jax.numpy as jnp\n",
    "data = jnp.array(encode(text), dtype=jnp.int64)\n",
    "print(data.shape, data.dtype)\n",
    "print(data[:1000]) # the 1000 characters we looked at earier will to the GPT look like this"
   ]
  },
  {
   "cell_type": "code",
   "execution_count": 8,
   "id": "c689cd11",
   "metadata": {},
   "outputs": [],
   "source": [
    "n = int(0.9*len(data)) # first 90% will be train, rest val\n",
    "train_data = data[:n]\n",
    "val_data = data[n:]"
   ]
  },
  {
   "cell_type": "code",
   "execution_count": 9,
   "id": "61321db6",
   "metadata": {},
   "outputs": [
    {
     "name": "stdout",
     "output_type": "stream",
     "text": [
      "inputs:\n",
      "(4, 8)\n",
      "[[19 50 53 59 41 43 57 58]\n",
      " [45 43  1 40 43 57 58  1]\n",
      " [56 52 39 56 42 47 52 43]\n",
      " [61 39 58 41 46 47 52 45]]\n",
      "targets:\n",
      "(4, 8)\n",
      "[[50 53 59 41 43 57 58 43]\n",
      " [43  1 40 43 57 58  1 46]\n",
      " [52 39 56 42 47 52 43 12]\n",
      " [39 58 41 46 47 52 45  1]]\n",
      "----\n",
      "when input is [19] the target: 50\n",
      "when input is [19, 50] the target: 53\n",
      "when input is [19, 50, 53] the target: 59\n",
      "when input is [19, 50, 53, 59] the target: 41\n",
      "when input is [19, 50, 53, 59, 41] the target: 43\n",
      "when input is [19, 50, 53, 59, 41, 43] the target: 57\n",
      "when input is [19, 50, 53, 59, 41, 43, 57] the target: 58\n",
      "when input is [19, 50, 53, 59, 41, 43, 57, 58] the target: 43\n",
      "when input is [45] the target: 43\n",
      "when input is [45, 43] the target: 1\n",
      "when input is [45, 43, 1] the target: 40\n",
      "when input is [45, 43, 1, 40] the target: 43\n",
      "when input is [45, 43, 1, 40, 43] the target: 57\n",
      "when input is [45, 43, 1, 40, 43, 57] the target: 58\n",
      "when input is [45, 43, 1, 40, 43, 57, 58] the target: 1\n",
      "when input is [45, 43, 1, 40, 43, 57, 58, 1] the target: 46\n",
      "when input is [56] the target: 52\n",
      "when input is [56, 52] the target: 39\n",
      "when input is [56, 52, 39] the target: 56\n",
      "when input is [56, 52, 39, 56] the target: 42\n",
      "when input is [56, 52, 39, 56, 42] the target: 47\n",
      "when input is [56, 52, 39, 56, 42, 47] the target: 52\n",
      "when input is [56, 52, 39, 56, 42, 47, 52] the target: 43\n",
      "when input is [56, 52, 39, 56, 42, 47, 52, 43] the target: 12\n",
      "when input is [61] the target: 39\n",
      "when input is [61, 39] the target: 58\n",
      "when input is [61, 39, 58] the target: 41\n",
      "when input is [61, 39, 58, 41] the target: 46\n",
      "when input is [61, 39, 58, 41, 46] the target: 47\n",
      "when input is [61, 39, 58, 41, 46, 47] the target: 52\n",
      "when input is [61, 39, 58, 41, 46, 47, 52] the target: 45\n",
      "when input is [61, 39, 58, 41, 46, 47, 52, 45] the target: 1\n"
     ]
    }
   ],
   "source": [
    "batch_size = 4 # how many independent sequences will we process in parallel?\n",
    "block_size = 8 # what is the maximum context length for predictions?\n",
    "\n",
    "def get_batch(key, split):\n",
    "    # generate a small batch of data of inputs x and targets y\n",
    "    data = train_data if split == 'train' else val_data\n",
    "    # generate random starting positions for the examples\n",
    "    ix = jax.random.randint(key, (batch_size,), 0, len(data) - block_size)\n",
    "    x = jnp.stack([data[i:i+block_size] for i in ix])\n",
    "    y = jnp.stack([data[i+1:i+block_size+1] for i in ix])\n",
    "    return x, y\n",
    "\n",
    "key = jax.random.PRNGKey(4206969)\n",
    "xb, yb = get_batch(key, 'train')\n",
    "print('inputs:')\n",
    "print(xb.shape)\n",
    "print(xb)\n",
    "print('targets:')\n",
    "print(yb.shape)\n",
    "print(yb)\n",
    "\n",
    "print('----')\n",
    "\n",
    "for b in range(batch_size): # batch dimension\n",
    "    for t in range(block_size): # time dimension\n",
    "        context = xb[b, :t+1]\n",
    "        target = yb[b,t]\n",
    "        print(f\"when input is {context.tolist()} the target: {target}\")"
   ]
  },
  {
   "cell_type": "code",
   "execution_count": 28,
   "id": "1c6d8586",
   "metadata": {},
   "outputs": [
    {
     "name": "stdout",
     "output_type": "stream",
     "text": [
      "(4, 8, 65)\n",
      "4.1729555\n",
      "\n",
      "ZdyksdKDtFNefnwVh3TBvXT:ZiRUDg; Px$$MLfAdcEzfE,V-SeGyXGy tdZijl'?3fqBTrvAaH3PP&vrC3wDQWgl$SSH' sIdv\n",
      "\n"
     ]
    }
   ],
   "source": [
    "import flax\n",
    "import flax.linen as nn\n",
    "import optax\n",
    "\n",
    "class BigramLanguageModel(nn.Module):\n",
    "    num_embeddings: int\n",
    "    features: int\n",
    "\n",
    "    @nn.compact\n",
    "    def __call__(self, idx):\n",
    "        logits = nn.Embed(self.num_embeddings, self.features)(idx)\n",
    "        return logits\n",
    "\n",
    "    def generate(self, key, params, idx, max_new_tokens):\n",
    "        for _ in range(max_new_tokens):\n",
    "            logits = model.apply(params, idx)\n",
    "            logits = logits[:, -1, :] # (1, C) C=embed dim here\n",
    "            key, subkey = jax.random.split(key)\n",
    "            idx_next = jax.random.categorical(subkey, logits, shape=(logits.shape[0],1))\n",
    "            idx = jnp.concat([idx, idx_next], axis=1).astype(int)\n",
    "            # e.g.\n",
    "            # [[ 0 ]]\n",
    "            # [[ 0 38]]\n",
    "            # [[ 0 38 42]]\n",
    "            # [[ 0 38 42 63]]\n",
    "            # [[ 0 38 42 63 49]]\n",
    "            # . . .\n",
    "        return idx\n",
    "\n",
    "        \n",
    "model = BigramLanguageModel(num_embeddings=vocab_size, features=vocab_size)\n",
    "\n",
    "def loss_fn(params, x, y):\n",
    "    logits = model.apply(params, x) # (B, T, C)\n",
    "    # y (B, T) array of indexes for next char/token\n",
    "    # also standard to have ys as one-hot vectors (representing true probability distribution) \n",
    "    # then they would have shape (B, T, C)\n",
    "    # and you would use optax.losses.softmax_cross_entropy(logirs, one_hot_y).mean() instead\n",
    "    return optax.losses.softmax_cross_entropy_with_integer_labels(logits, y).mean()\n",
    "\n",
    "init_key, gen_key = jax.random.split(jax.random.PRNGKey(402323))\n",
    "params = model.init(init_key, jnp.ones_like(xb))\n",
    "logits = model.apply(params, xb)\n",
    "loss = loss_fn(params, xb, yb)\n",
    "\n",
    "print(logits.shape)\n",
    "print(loss)\n",
    "\n",
    "print(decode(model.generate(gen_key, params, jnp.zeros((1,1), dtype=jnp.int32), 100)[0].tolist()))"
   ]
  },
  {
   "cell_type": "code",
   "execution_count": 29,
   "id": "b98a0618",
   "metadata": {},
   "outputs": [
    {
     "name": "stdout",
     "output_type": "stream",
     "text": [
      "2.2430437\n"
     ]
    }
   ],
   "source": [
    "\n",
    "tx = optax.adam(learning_rate=1e-3)\n",
    "opt_state = tx.init(params)\n",
    "loss_grad_fn = jax.value_and_grad(loss_fn)\n",
    "for i in range(10000):\n",
    "    init_key, train_key = jax.random.split(init_key)\n",
    "    xb, yb = get_batch(train_key, 'train')\n",
    "    loss, grads = loss_grad_fn(params, xb, yb)\n",
    "    updates, opt_state = tx.update(grads, opt_state)\n",
    "    params = optax.apply_updates(params, updates)\n",
    "print(loss)\n"
   ]
  },
  {
   "cell_type": "code",
   "execution_count": null,
   "id": "e8101045",
   "metadata": {},
   "outputs": [
    {
     "name": "stdout",
     "output_type": "stream",
     "text": [
      "\n",
      "bera thwoft l hair ch araner dangundtapre orn at aive allo hece ipr'lpllis w tomed an\n",
      "\n",
      "THOTougor?-\n",
      "Mof f ite,\n",
      "\n",
      "Mouthit, bex;\n",
      "k; an'd!'Andeno ple, turson tidsorstt, LIVINRI!Dgrg to ond rewifayzllHagndvod thred, civy beat'FPOur akeph minondour ce, bEim merere!\n",
      "\n",
      "Wee shegodeswd y CAREnge h KAssor wawat to wnporct\n",
      "GqBlist pou d pou.\n",
      "ADUTJNash mofoumstcaing ur alyo t y nthee ha imuill s brrd het t ndiny ve' t e an t;Y pllds mar s akTyRif tre theo he\n",
      "Berefe t d, u? CHEV:\n",
      "Anis\n",
      "RAlofe I'd akeingnco\n",
      "\n",
      "The \n"
     ]
    }
   ],
   "source": [
    "print(decode(model.generate(jax.random.PRNGKey(43523523), params, jnp.zeros((1,1), dtype=jnp.int32), 500)[0].tolist()))"
   ]
  },
  {
   "cell_type": "code",
   "execution_count": 25,
   "id": "e0f38ec0",
   "metadata": {},
   "outputs": [
    {
     "name": "stdout",
     "output_type": "stream",
     "text": [
      "[[1.         0.         0.         0.         0.         0.\n",
      "  0.         0.        ]\n",
      " [0.5        0.5        0.         0.         0.         0.\n",
      "  0.         0.        ]\n",
      " [0.33333334 0.33333334 0.33333334 0.         0.         0.\n",
      "  0.         0.        ]\n",
      " [0.25       0.25       0.25       0.25       0.         0.\n",
      "  0.         0.        ]\n",
      " [0.2        0.2        0.2        0.2        0.2        0.\n",
      "  0.         0.        ]\n",
      " [0.16666667 0.16666667 0.16666667 0.16666667 0.16666667 0.16666667\n",
      "  0.         0.        ]\n",
      " [0.14285715 0.14285715 0.14285715 0.14285715 0.14285715 0.14285715\n",
      "  0.14285715 0.        ]\n",
      " [0.125      0.125      0.125      0.125      0.125      0.125\n",
      "  0.125      0.125     ]]\n"
     ]
    },
    {
     "data": {
      "text/plain": [
       "Array([[-9.36835468e-01,  6.82493269e-01, -9.05545354e-01,\n",
       "         1.27150500e+00, -7.41448328e-02, -3.09238374e-01,\n",
       "        -6.49880350e-01,  1.67768037e+00, -1.36831605e+00,\n",
       "         9.45524216e-01, -8.55683327e-01,  7.82965541e-01,\n",
       "         1.39927375e+00,  9.77689698e-02,  5.22718132e-01,\n",
       "         1.90649256e-02, -1.25525091e-02,  9.05659974e-01,\n",
       "        -1.22918475e+00,  8.94479930e-01, -1.67636171e-01,\n",
       "         2.95173585e-01, -1.16299771e-01,  1.32183123e+00,\n",
       "         7.54162729e-01, -3.96391690e-01, -4.77522135e-01,\n",
       "         1.11174476e+00,  4.48074549e-01, -1.49217033e+00,\n",
       "         2.12341905e+00, -3.59637916e-01],\n",
       "       [-4.91076261e-01,  4.86555219e-01, -2.93068260e-01,\n",
       "         6.27745807e-01, -7.03969240e-01,  4.24974263e-02,\n",
       "        -9.98694539e-01,  6.08226836e-01, -1.32650971e+00,\n",
       "         1.82342768e-01, -9.22977507e-01,  5.01198053e-01,\n",
       "         4.67258155e-01,  6.16319418e-01,  1.13766396e+00,\n",
       "        -3.51172239e-01, -6.28570735e-01,  1.38319182e+00,\n",
       "        -1.41318154e+00,  3.15669775e-01, -2.94073492e-01,\n",
       "         3.68863136e-01, -5.40229082e-01, -4.64439869e-01,\n",
       "         2.21084759e-01,  3.47555190e-01,  8.78939629e-02,\n",
       "        -2.81682491e-01,  9.36697602e-01, -1.44814599e+00,\n",
       "         5.49095690e-01,  4.00592238e-01],\n",
       "       [-7.70788074e-01,  7.54347444e-01,  1.25778377e-01,\n",
       "         2.66974628e-01, -1.60086915e-01,  1.55773580e-01,\n",
       "        -7.39080608e-01,  9.03280377e-01, -8.19222510e-01,\n",
       "        -8.46244395e-02, -1.53822505e+00,  4.01019335e-01,\n",
       "         4.25527692e-01, -4.18129146e-01,  1.19255459e+00,\n",
       "        -1.03684688e+00, -4.31210250e-01,  9.83137608e-01,\n",
       "        -3.14437479e-01,  3.20315734e-03, -3.54821056e-01,\n",
       "         3.70988756e-01, -1.05667877e+00, -3.00916374e-01,\n",
       "         7.42023885e-02,  5.76793373e-01,  6.92205191e-01,\n",
       "         9.67688952e-03,  3.41160119e-01, -1.29591715e+00,\n",
       "         4.36451882e-01,  2.38531992e-01],\n",
       "       [-4.74668920e-01,  4.83192623e-01,  1.90639853e-01,\n",
       "         2.36092895e-01,  7.72178322e-02, -7.43757337e-02,\n",
       "        -7.32118189e-01,  6.47995949e-01, -4.37550068e-01,\n",
       "         2.03607768e-01, -1.15718675e+00,  4.91595328e-01,\n",
       "         3.96935284e-01, -1.17494836e-01,  1.05736840e+00,\n",
       "        -4.54431206e-01, -3.32858086e-01,  7.00893700e-01,\n",
       "        -6.01997674e-01,  5.38017191e-02, -3.89414102e-01,\n",
       "         5.74303865e-01, -6.92201078e-01, -3.85899335e-01,\n",
       "         2.10573047e-01,  5.05982876e-01,  4.59136128e-01,\n",
       "         8.25744793e-02, -1.05590820e-01, -1.03704739e+00,\n",
       "         2.86766201e-01,  4.56025451e-01],\n",
       "       [-3.83466333e-01,  9.38194022e-02,  1.43676475e-01,\n",
       "         7.95336589e-02,  6.40686899e-02,  6.04155809e-02,\n",
       "        -4.06878948e-01,  3.07358444e-01, -3.60583752e-01,\n",
       "         5.73892117e-01, -1.05548203e+00,  4.35019225e-01,\n",
       "         3.68152946e-01, -3.64540935e-01,  1.14554381e+00,\n",
       "        -4.29517239e-01,  1.37524009e-01,  8.17475200e-01,\n",
       "        -4.59446460e-01,  1.93077140e-02, -2.72885531e-01,\n",
       "         5.10714054e-01, -5.00494778e-01, -4.68486220e-01,\n",
       "         6.69542611e-01,  5.18828928e-01,  5.40831327e-01,\n",
       "         5.66587970e-03, -3.65593255e-01, -1.17779362e+00,\n",
       "         6.22992456e-01,  6.83162987e-01],\n",
       "       [-4.00263101e-01, -3.43451500e-02,  1.73247196e-02,\n",
       "         1.60897091e-01,  6.05158601e-03,  1.60975746e-04,\n",
       "        -4.70943242e-01,  2.19105482e-01, -1.52888566e-01,\n",
       "         4.83482480e-01, -1.11236453e+00,  7.48698115e-02,\n",
       "         1.59528136e-01, -1.64433509e-01,  8.32318306e-01,\n",
       "        -3.00951362e-01,  2.40616530e-01,  8.86269510e-01,\n",
       "        -5.31883717e-01,  1.59329418e-02, -4.13166821e-01,\n",
       "         4.26915199e-01, -4.15041000e-01, -2.50758797e-01,\n",
       "         9.08171594e-01,  5.51379979e-01,  8.97386014e-01,\n",
       "         1.84383795e-01, -3.38651299e-01, -9.58661318e-01,\n",
       "         7.15577126e-01,  6.07544482e-01],\n",
       "       [-7.56476104e-01,  3.07344887e-02,  3.45457867e-02,\n",
       "         1.82182997e-01,  1.22011535e-01,  9.13943648e-02,\n",
       "        -5.84344923e-01,  3.33927333e-01,  1.02078907e-01,\n",
       "        -4.84614410e-02, -7.82177448e-01,  2.28575230e-01,\n",
       "         3.03544905e-02, -2.02955097e-01,  1.01625025e+00,\n",
       "        -2.22107083e-01,  1.41865328e-01,  5.25703013e-01,\n",
       "        -3.84431958e-01, -2.45327443e-01, -4.79510099e-01,\n",
       "         3.72803509e-01, -4.33461398e-01, -3.26867968e-01,\n",
       "         6.68799996e-01,  3.08049411e-01,  8.41815114e-01,\n",
       "         2.11685002e-02, -1.48250028e-01, -8.45592439e-01,\n",
       "         7.69456089e-01,  3.35239828e-01],\n",
       "       [-5.72517693e-01,  1.19764797e-01, -2.32709870e-01,\n",
       "         1.57608569e-01,  5.15163951e-02,  3.05329263e-02,\n",
       "        -5.20018995e-01,  4.72407222e-01,  8.88177007e-02,\n",
       "         1.32338673e-01, -8.04982781e-01,  2.52959043e-01,\n",
       "         2.10205629e-01, -1.47967532e-01,  1.04247749e+00,\n",
       "        -1.90003067e-01,  1.80657953e-01,  3.95602673e-01,\n",
       "        -3.23996067e-01, -9.59715620e-02, -5.10446906e-01,\n",
       "         3.66993129e-01, -2.38018081e-01, -3.31251621e-02,\n",
       "         5.40226579e-01,  2.58151263e-01,  7.00679243e-01,\n",
       "         1.53209642e-01, -4.75283191e-02, -7.67400801e-01,\n",
       "         7.30332792e-01,  2.39628226e-01]], dtype=float32)"
      ]
     },
     "execution_count": 25,
     "metadata": {},
     "output_type": "execute_result"
    }
   ],
   "source": [
    "B, T, C = 4, 8, 32\n",
    "key = jax.random.PRNGKey(34343)\n",
    "x = jax.random.normal(key, (B,T,C))\n",
    "tril = jnp.tril(jnp.ones((T,T)))\n",
    "wei = jnp.zeros((T,T))\n",
    "wei = wei.at[tril == 0].set(float('-inf')) \n",
    "wei = jax.nn.softmax(wei,axis=-1)\n",
    "print(wei)\n",
    "out = wei @ x\n",
    "out[0]"
   ]
  },
  {
   "cell_type": "code",
   "execution_count": null,
   "id": "ccfd1ea9",
   "metadata": {},
   "outputs": [],
   "source": []
  }
 ],
 "metadata": {
  "kernelspec": {
   "display_name": "pytorchenv",
   "language": "python",
   "name": "python3"
  },
  "language_info": {
   "codemirror_mode": {
    "name": "ipython",
    "version": 3
   },
   "file_extension": ".py",
   "mimetype": "text/x-python",
   "name": "python",
   "nbconvert_exporter": "python",
   "pygments_lexer": "ipython3",
   "version": "3.12.7"
  }
 },
 "nbformat": 4,
 "nbformat_minor": 5
}
